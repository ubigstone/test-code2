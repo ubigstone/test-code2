{
 "cells": [
  {
   "cell_type": "markdown",
   "id": "fdb9a76f",
   "metadata": {},
   "source": [
    "# 4단원 핵심정리\n",
    "\n",
    "### 제어문이란 프로그램의 순차적 흐름이 아닌 조건에 맞는 실행과 반복을 하는 명령문이다.  \n",
    "### 조건문이란 프로그래머가 명시한 특정 조건을 만족할 때에만 특정 블록이 실행되도록 하는 문법이다.  \n",
    "### 조건문의 키워드인 if,elif의 다음에는 조건식이 나타나고 바로 이어서 실행문 블록이 시작되기 전에 콜론(:)을 표시한다. 그리고 실행문 블록은 조건문의 키워드보다 들여쓰기를 해서 작성한다. \n",
    "### 조건식은 부울형인 참(True)과 거짓(False)의 값을 가질수 있다.  \n",
    "### 블록은 같은 실행 흐름에서 순서대로 실행되는 코드의 집합을 의미한다.  \n",
    "### 조건문에서 실행문 블록은 반드시 들여쓰기를 해주어야 한다.  \n",
    "### if-elif-else 문에서 if 문의 조건식을 제일 먼저 조사하고, if 문의 조건식이 참이 아닐때, elif 조건식을 검사하고, elif 문의 조건식도 참이 아닐 때에는 마지막으로 else 문의 블록을 실행한다.\n",
    "\n",
    "# 4단원 심화문제풀이\n",
    "\n",
    "## 4.1"
   ]
  },
  {
   "cell_type": "code",
   "execution_count": 4,
   "id": "43b23c23",
   "metadata": {},
   "outputs": [
    {
     "name": "stdout",
     "output_type": "stream",
     "text": [
      "알파벳을 입력하시오 : i\n",
      "i 은(는) 모음입니다.\n"
     ]
    }
   ],
   "source": [
    "vowel=[\"a\",\"e\",\"i\",\"o\",\"u\"]\n",
    "alpha=input(\"알파벳을 입력하시오 : \")\n",
    "if alpha in vowel:\n",
    "    print(alpha,\"은(는) 모음입니다.\")\n",
    "else:\n",
    "    print(alpha,\"은(는) 자음입니다.\")"
   ]
  },
  {
   "cell_type": "markdown",
   "id": "1e0b15dc",
   "metadata": {},
   "source": [
    "## 4.2"
   ]
  },
  {
   "cell_type": "code",
   "execution_count": 18,
   "id": "14102a1a",
   "metadata": {},
   "outputs": [
    {
     "name": "stdout",
     "output_type": "stream",
     "text": [
      "세 정수를 입력하시오 : 9 122 4\n",
      "[122, 9, 4]\n"
     ]
    }
   ],
   "source": [
    "a = input(\"세 정수를 입력하시오 : \")\n",
    "b=a.split()\n",
    "c=list(map(int,b))\n",
    "if c[0]>c[1]>c[2]:\n",
    "    print(c)\n",
    "else:\n",
    "    c.sort(reverse=True)\n",
    "    print(c)"
   ]
  },
  {
   "cell_type": "code",
   "execution_count": 2,
   "id": "368553ac",
   "metadata": {},
   "outputs": [
    {
     "name": "stdout",
     "output_type": "stream",
     "text": [
      "세개의 정수를 입력하세요 : 9 122 4\n"
     ]
    },
    {
     "data": {
      "text/plain": [
       "(9, 122, 4)"
      ]
     },
     "execution_count": 2,
     "metadata": {},
     "output_type": "execute_result"
    }
   ],
   "source": [
    "a, b, c = map(int,input(\"세개의 정수를 입력하세요 : \").split())\n",
    "a,b,c"
   ]
  },
  {
   "cell_type": "markdown",
   "id": "a2490170",
   "metadata": {},
   "source": [
    "## 4.3"
   ]
  },
  {
   "cell_type": "code",
   "execution_count": 11,
   "id": "143da638",
   "metadata": {},
   "outputs": [
    {
     "name": "stdout",
     "output_type": "stream",
     "text": [
      "나이를 입력하시오 : 23\n",
      "Adult\n"
     ]
    }
   ],
   "source": [
    "age=int(input(\"나이를 입력하시오 : \"))\n",
    "if age>=20:\n",
    "    print(\"Adult\")\n",
    "elif 10<=age<20: # <20 이 없어도 됨.\n",
    "    print(\"Youth\")\n",
    "else:\n",
    "    print(\"Kid\")"
   ]
  },
  {
   "cell_type": "markdown",
   "id": "19d61065",
   "metadata": {},
   "source": [
    "## 4.4"
   ]
  },
  {
   "cell_type": "code",
   "execution_count": 18,
   "id": "b7ea6b8e",
   "metadata": {},
   "outputs": [
    {
     "name": "stdout",
     "output_type": "stream",
     "text": [
      "정수를 입력하시오 : 15\n",
      "15 는(은) 2 (으)로 나누어지지 않습니다.\n",
      "15 는(은) 3 (으)로 나누어집니다.\n",
      "15는(은) 2와(과) 3 모두로 나누어지지 않습니다.\n"
     ]
    }
   ],
   "source": [
    "num=int(input(\"정수를 입력하시오 : \"))\n",
    "if num % 2==0:\n",
    "    print(num,\"는(은)\",2,\"(으)로 나누어집니다.\")\n",
    "else:\n",
    "    print(num,\"는(은)\",2,\"(으)로 나누어지지 않습니다.\")\n",
    "    \n",
    "if num % 3==0:\n",
    "    print(num,\"는(은)\",3,\"(으)로 나누어집니다.\")\n",
    "else:\n",
    "    print(num,\"는(은)\",3,\"(으)로 나누어지지 않습니다.\")\n",
    "    \n",
    "if num % 2==0 and num % 3==0:\n",
    "    print(f\"{num}는(은) {2}와(과) {3} 모두로 나누어집니다.\")\n",
    "else:\n",
    "    print(f\"{num}는(은) {2}와(과) {3} 모두로 나누어지지 않습니다.\")"
   ]
  },
  {
   "cell_type": "markdown",
   "id": "bc0f87cc",
   "metadata": {},
   "source": [
    "## 4.5"
   ]
  },
  {
   "cell_type": "code",
   "execution_count": 13,
   "id": "4e73ca32",
   "metadata": {},
   "outputs": [
    {
     "name": "stdout",
     "output_type": "stream",
     "text": [
      "세 복권번호를 입력하시오 : 3\n",
      "세 복권번호를 입력하시오 : 4\n",
      "세 복권번호를 입력하시오 : 5\n",
      "[1, 4, 4]\n",
      "상금 1천만원\n"
     ]
    }
   ],
   "source": [
    "import random\n",
    "lotto=[]\n",
    "for i in range(3):\n",
    "    lotto.append(random.randint(0,9))\n",
    "# lotto.append(random.sample(range(0.9),k=3)\n",
    "#num_1,num_2,num_3=map(int,input(\"세 복권번호를 입력하시오 : \"),split())\n",
    "# 리스트 3개를 만들어서 당첨번호 리스트, 내가 입력한 번호 리스트 , 두리스트가 겹친 갯수 리스트 해서 마지막 리스트길이로 판단 가능\n",
    "num_1=int(input(\"세 복권번호를 입력하시오 : \"))\n",
    "num_2=int(input(\"세 복권번호를 입력하시오 : \"))\n",
    "num_3=int(input(\"세 복권번호를 입력하시오 : \"))\n",
    "print(lotto)\n",
    "if (num_1 and num_2 and num_3) in lotto:\n",
    "    print(\"상금 1억원\")\n",
    "elif (num_1 and num_2)in lotto or (num_2 and num_3)in lotto or (num_1 and num_3) in lotto:\n",
    "    print(\"상금 1천만원\")\n",
    "elif num_1 in lotto or num_2 in lotto or num_3 in lotto:\n",
    "    print(\"상금 1만원\")\n",
    "else:\n",
    "    print(\"다음 기회에...\")"
   ]
  },
  {
   "cell_type": "markdown",
   "id": "43fb8f1f",
   "metadata": {},
   "source": [
    "## 4.6"
   ]
  },
  {
   "cell_type": "code",
   "execution_count": 40,
   "id": "3388bbf1",
   "metadata": {},
   "outputs": [
    {
     "name": "stdout",
     "output_type": "stream",
     "text": [
      "우리식당에 오신것을 환영합니다. 메뉴는 다음과 같습니다.\n",
      "- 햄버거(입력 b)\n",
      "- 치킨(입력 c)\n",
      "- 피자(입력 p)\n",
      "메뉴를 선택하세요(알파벳 b, c, p 입력) : b\n",
      "햄버거를 선택하였습니다.\n"
     ]
    }
   ],
   "source": [
    "print(\"\"\"우리식당에 오신것을 환영합니다. 메뉴는 다음과 같습니다.\n",
    "- 햄버거(입력 b)\n",
    "- 치킨(입력 c)\n",
    "- 피자(입력 p)\"\"\")\n",
    "select=input(\"메뉴를 선택하세요(알파벳 b, c, p 입력) : \")\n",
    "if select == \"b\":\n",
    "    print(\"햄버거를 선택하였습니다.\")ㄹ\n",
    "elif select == \"c\":\n",
    "    print(\"치킨을 선택하였습니다.\")\n",
    "elif select == \"p\":\n",
    "    print(\"피자를 선택하였습니다.\")\n",
    "else:\n",
    "    print(\"선택한 메뉴가 없습니다\")"
   ]
  },
  {
   "cell_type": "markdown",
   "id": "c6c2109c",
   "metadata": {},
   "source": [
    "## 4.7"
   ]
  },
  {
   "cell_type": "code",
   "execution_count": 3,
   "id": "0e472d21",
   "metadata": {},
   "outputs": [
    {
     "name": "stdout",
     "output_type": "stream",
     "text": [
      "87 + 66 = 153\n",
      "잘했어요!!\n"
     ]
    }
   ],
   "source": [
    "import random\n",
    "a=random.randint(1,100)# a,b=random.randint(1,100),random.randint(1,100)\n",
    "b=random.randint(1,100)\n",
    "answer=int(input(f\"{a} + {b} = \"))\n",
    "if answer == a+b:\n",
    "    print(\"잘했어요!!\")\n",
    "else:\n",
    "    print(f\"정답은 {a+b} 입니다.\")"
   ]
  },
  {
   "cell_type": "markdown",
   "id": "1a557e73",
   "metadata": {},
   "source": [
    "## 4.8"
   ]
  },
  {
   "cell_type": "code",
   "execution_count": 17,
   "id": "36c09e39",
   "metadata": {},
   "outputs": [
    {
     "name": "stdout",
     "output_type": "stream",
     "text": [
      "1)덧셈 2)뺄셈 3)곱셈 4)나눗셈\n",
      "어떤 연산을 원하는지 번호를 입력하세요4\n",
      "연산을 원하는 숫자 두개를 입력하세요3 4\n",
      "3 / 4 = 0.75\n"
     ]
    }
   ],
   "source": [
    "print(\"1)덧셈 2)뺄셈 3)곱셈 4)나눗셈\")\n",
    "calculation=int(input(\"어떤 연산을 원하는지 번호를 입력하세요\"))\n",
    "num=input(\"연산을 원하는 숫자 두개를 입력하세요\")\n",
    "num2=num.split()\n",
    "num3=list(map(int,num2))\n",
    "if calculation == 1:\n",
    "    print(num3[0],\"+\",num3[1],\"=\",num3[0]+num3[1])\n",
    "elif calculation == 2:\n",
    "    print(num3[0],\"-\",num3[1],\"=\",num3[0]-num3[1])\n",
    "elif calculation == 3:\n",
    "    print(num3[0],\"*\",num3[1],\"=\",num3[0]*num3[1])    \n",
    "elif calculation == 4:\n",
    "    print(num3[0],\"/\",num3[1],\"=\",num3[0]/num3[1])\n",
    "else:\n",
    "    print(\"잘못 입력하였습니다.\")\n",
    "    "
   ]
  },
  {
   "cell_type": "markdown",
   "id": "905aa417",
   "metadata": {},
   "source": [
    "## 4.9"
   ]
  },
  {
   "cell_type": "code",
   "execution_count": 1,
   "id": "2bcae04e",
   "metadata": {},
   "outputs": [],
   "source": [
    "import turtle\n",
    "t=turtle.Turtle()\n",
    "t.shape(\"turtle\")\n",
    "llx,lly=turtle.textinput(\"ll\",\"왼쪽 하단 모서리 좌표 x, y : \").split()\n",
    "urx,ury=turtle.textinput(\"ur\",\"오른쪽 상단 모서리 좌표 x, y : \").split()\n",
    "px,py=turtle.textinput(\"point\",\"점의 좌표 x, y : \").split()\n",
    "t.penup()\n",
    "t.goto(int(px),int(py))\n",
    "t.dot(30)\n",
    "t.goto(0,0)\n",
    "if int(llx)<int(px)<int(urx):\n",
    "    if int(lly)<int(py)<int(urx):\n",
    "        t.write(\"사각형은 내부에 있습니다\")\n",
    "    else:\n",
    "        t.write(\"사각형은 외부에 있습니다\")\n",
    "else:\n",
    "        t.write(\"사각형은 외부에 있습니다\")\n",
    "\n",
    "turtle.down()"
   ]
  },
  {
   "cell_type": "markdown",
   "id": "4755fc93",
   "metadata": {},
   "source": [
    "# 5단원 핵심정리\n",
    "\n",
    "## 문장들을 반복 실행하려먄 for 나 while을 사용한다.  \n",
    "## 반복 실행되는 문장들을 들여쓰기 하여야 한다.  \n",
    "## for 문은 반복 횟수가 정해져 있을 때 적합하다.  \n",
    "## while 문은 반복 조건이 정해져 있을때 유용하다.  \n",
    "## while 반복문은 문장의 초입에서 조건식이 검사된다.  \n",
    "## continue 와 break는 루프제어를 위한 고급기능을 제공한다.  \n",
    "\n",
    "# 5단원 문제풀이\n",
    "\n",
    "## 5.1"
   ]
  },
  {
   "cell_type": "code",
   "execution_count": 6,
   "id": "c1e1122f",
   "metadata": {},
   "outputs": [
    {
     "name": "stdout",
     "output_type": "stream",
     "text": [
      "1에서 100까지의 수 중에서 홀수는 : \n",
      "1 3 5 7 9 11 13 15 17 19 21 23 25 27 29 31 33 35 37 39 41 43 45 47 49 51 53 55 57 59 61 63 65 67 69 71 73 75 77 79 81 83 85 87 89 91 93 95 97 99 "
     ]
    }
   ],
   "source": [
    "print(\"1에서 100까지의 수 중에서 홀수는 : \")\n",
    "for i in range(1,101,2):\n",
    "    print(i,end=\" \")"
   ]
  },
  {
   "cell_type": "code",
   "execution_count": 7,
   "id": "64715982",
   "metadata": {},
   "outputs": [
    {
     "name": "stdout",
     "output_type": "stream",
     "text": [
      "1에서 100까지의 수 중에서 홀수는 : \n",
      "1 3 5 7 9 11 13 15 17 19 21 23 25 27 29 31 33 35 37 39 41 43 45 47 49 51 53 55 57 59 61 63 65 67 69 71 73 75 77 79 81 83 85 87 89 91 93 95 97 99 "
     ]
    }
   ],
   "source": [
    "print(\"1에서 100까지의 수 중에서 홀수는 : \")\n",
    "i=1\n",
    "while i<101:\n",
    "    print(i,end=\" \")\n",
    "    i+=2"
   ]
  },
  {
   "cell_type": "code",
   "execution_count": 9,
   "id": "d5be54e6",
   "metadata": {},
   "outputs": [
    {
     "name": "stdout",
     "output_type": "stream",
     "text": [
      "1에서 100까지의 수 중에서 짝수는 : \n",
      "2 4 6 8 10 12 14 16 18 20 22 24 26 28 30 32 34 36 38 40 42 44 46 48 50 52 54 56 58 60 62 64 66 68 70 72 74 76 78 80 82 84 86 88 90 92 94 96 98 100 "
     ]
    }
   ],
   "source": [
    "print(\"1에서 100까지의 수 중에서 짝수는 : \")\n",
    "for i in range(2,101,2):\n",
    "    print(i,end=\" \")"
   ]
  },
  {
   "cell_type": "code",
   "execution_count": 10,
   "id": "5984a459",
   "metadata": {},
   "outputs": [
    {
     "name": "stdout",
     "output_type": "stream",
     "text": [
      "1에서 100까지의 수 중에서 짝수는 : \n",
      "2 4 6 8 10 12 14 16 18 20 22 24 26 28 30 32 34 36 38 40 42 44 46 48 50 52 54 56 58 60 62 64 66 68 70 72 74 76 78 80 82 84 86 88 90 92 94 96 98 100 "
     ]
    }
   ],
   "source": [
    "print(\"1에서 100까지의 수 중에서 짝수는 : \")\n",
    "i=2\n",
    "while i<101:\n",
    "    print(i,end=\" \")\n",
    "    i+=2"
   ]
  },
  {
   "cell_type": "markdown",
   "id": "232517f4",
   "metadata": {},
   "source": [
    "## 5.2"
   ]
  },
  {
   "cell_type": "code",
   "execution_count": 13,
   "id": "f788fb7a",
   "metadata": {},
   "outputs": [
    {
     "name": "stdout",
     "output_type": "stream",
     "text": [
      "1에서 100까지의 수 중에서 홀수의 합 :  2500\n"
     ]
    }
   ],
   "source": [
    "s=0\n",
    "for i in range(1,101,2):\n",
    "    s+=i\n",
    "print(\"1에서 100까지의 수 중에서 홀수의 합 : \",s)"
   ]
  },
  {
   "cell_type": "code",
   "execution_count": 16,
   "id": "1d867b59",
   "metadata": {},
   "outputs": [
    {
     "name": "stdout",
     "output_type": "stream",
     "text": [
      "1에서 100까지의 수 중에서 짝수의 합 :  2550\n"
     ]
    }
   ],
   "source": [
    "s=0\n",
    "i=2\n",
    "while i<101:\n",
    "    s+=i\n",
    "    i+=2\n",
    "print(\"1에서 100까지의 수 중에서 짝수의 합 : \",s)"
   ]
  },
  {
   "cell_type": "code",
   "execution_count": 22,
   "id": "9dc1edb5",
   "metadata": {},
   "outputs": [
    {
     "name": "stdout",
     "output_type": "stream",
     "text": [
      "시작 정수를 입력하세요 : 2\n",
      "끝 정수를 입력하세요 : 6\n",
      "2에서6까지 정수의 합 : 20\n"
     ]
    }
   ],
   "source": [
    "start=int(input(\"시작 정수를 입력하세요 : \"))\n",
    "end=int(input(\"끝 정수를 입력하세요 : \"))\n",
    "s=0\n",
    "i=start\n",
    "for i in range(i,end+1):\n",
    "    s+=i\n",
    "print(f\"{start}에서{end}까지 정수의 합 : {s}\")"
   ]
  },
  {
   "cell_type": "markdown",
   "id": "724164a9",
   "metadata": {},
   "source": [
    "## 5.3"
   ]
  },
  {
   "cell_type": "code",
   "execution_count": 19,
   "id": "7e3c60b5",
   "metadata": {},
   "outputs": [
    {
     "name": "stdout",
     "output_type": "stream",
     "text": [
      "맛나 식당에 오신것을 환영합니다. 메뉴는 다음과 같습니다.\n",
      "1) 햄버거\n",
      "2) 치킨\n",
      "3) 피자\n",
      "1에서 3까지의 메뉴를 선택하세요 : 4\n",
      "메뉴를 다시 선택하세요\n",
      "1에서 3까지의 메뉴를 선택하세요 : 4\n",
      "메뉴를 다시 선택하세요\n",
      "1에서 3까지의 메뉴를 선택하세요 : 2\n",
      "치킨을 선택하였습니다.\n"
     ]
    }
   ],
   "source": [
    "print(\"\"\"맛나 식당에 오신것을 환영합니다. 메뉴는 다음과 같습니다.\n",
    "1) 햄버거\n",
    "2) 치킨\n",
    "3) 피자\"\"\")\n",
    "while True:\n",
    "    menu=int(input(\"1에서 3까지의 메뉴를 선택하세요 : \"))\n",
    "    if menu==1:\n",
    "        print(\"햄버거를 선택하였습니다.\")\n",
    "        break\n",
    "    elif menu==2:\n",
    "        print(\"치킨을 선택하였습니다.\")\n",
    "        break\n",
    "    elif menu==3: \n",
    "        print(\"피자를 선택하였습니다.\")\n",
    "        break   \n",
    "    else:\n",
    "        print(\"메뉴를 다시 선택하세요\")"
   ]
  },
  {
   "cell_type": "markdown",
   "id": "5081b025",
   "metadata": {},
   "source": [
    "## 5.4"
   ]
  },
  {
   "cell_type": "code",
   "execution_count": 51,
   "id": "07e940e4",
   "metadata": {},
   "outputs": [
    {
     "name": "stdout",
     "output_type": "stream",
     "text": [
      "숫자를 입력하세요 : 5\n",
      "      \n",
      "     *\n",
      "    **\n",
      "   ***\n",
      "  ****\n"
     ]
    }
   ],
   "source": [
    "num=int(input(\"숫자를 입력하세요 : \"))\n",
    "for i in range(num):\n",
    "    print(\" \"*(num-i),\"*\"*i)"
   ]
  },
  {
   "cell_type": "markdown",
   "id": "a7e8a7da",
   "metadata": {},
   "source": [
    "## 5.5"
   ]
  },
  {
   "cell_type": "code",
   "execution_count": 10,
   "id": "31269ce9",
   "metadata": {},
   "outputs": [
    {
     "name": "stdout",
     "output_type": "stream",
     "text": [
      "day :   1 달팽이의 위치 :   7 미터\n",
      "day :   2 달팽이의 위치 :   9 미터\n",
      "day :   3 달팽이의 위치 :  11 미터\n",
      "day :   4 달팽이의 위치 :  13 미터\n",
      "day :   5 달팽이의 위치 :  15 미터\n",
      "day :   6 달팽이의 위치 :  17 미터\n",
      "day :   7 달팽이의 위치 :  19 미터\n",
      "day :   8 달팽이의 위치 :  21 미터\n",
      "day :   9 달팽이의 위치 :  23 미터\n",
      "day :  10 달팽이의 위치 :  25 미터\n",
      "day :  11 달팽이의 위치 :  27 미터\n",
      "day :  12 달팽이의 위치 :  29 미터\n",
      "축하합니다. 우물을 탈출하였습니다.\n",
      "우물을 탈출하는 데 걸린 날은 13일 입니다.\n"
     ]
    }
   ],
   "source": [
    "h=0\n",
    "day=0\n",
    "while True:\n",
    "    h+=7\n",
    "    day+=1\n",
    "    if h>30:\n",
    "        print(f\"\"\"축하합니다. 우물을 탈출하였습니다.\n",
    "우물을 탈출하는 데 걸린 날은 {day}일 입니다.\"\"\")\n",
    "        break\n",
    "    else:\n",
    "        print(f\"day : {day:3d} 달팽이의 위치 : {h:3d} 미터\")\n",
    "        h-=5\n",
    "    "
   ]
  },
  {
   "cell_type": "markdown",
   "id": "391b40aa",
   "metadata": {},
   "source": [
    "## 5.6"
   ]
  },
  {
   "cell_type": "code",
   "execution_count": 2,
   "id": "73480f54",
   "metadata": {},
   "outputs": [
    {
     "name": "stdout",
     "output_type": "stream",
     "text": [
      "충전 또는 사용한 연료를 +/- 기호와 함께 입력하시오: +60\n",
      "현재 탱크양은 560 입니다.\n",
      "충전 또는 사용한 연료를 +/- 기호와 함께 입력하시오: -300\n",
      "현재 탱크양은 260 입니다.\n",
      "충전 또는 사용한 연료를 +/- 기호와 함께 입력하시오: -220\n",
      "현재 탱크양은 40 입니다.\n",
      "경고 : 연료가 10% 미만이니 충전하세요!\n"
     ]
    }
   ],
   "source": [
    "fuel=500\n",
    "while True:\n",
    "    if fuel<50:\n",
    "        print(\"경고 : 연료가 10% 미만이니 충전하세요!\")\n",
    "        break\n",
    "    else:\n",
    "        cu=input(\"충전 또는 사용한 연료를 +/- 기호와 함께 입력하시오: \")\n",
    "        fuel+=int(cu)\n",
    "        print(f\"현재 탱크양은 {fuel} 입니다.\")"
   ]
  },
  {
   "cell_type": "markdown",
   "id": "d2f99c21",
   "metadata": {},
   "source": [
    "## 5.7"
   ]
  },
  {
   "cell_type": "code",
   "execution_count": 4,
   "id": "b6e33a4f",
   "metadata": {},
   "outputs": [
    {
     "name": "stdout",
     "output_type": "stream",
     "text": [
      "세 자리의 암스트롱 수 :  [153, 370, 371, 407]\n"
     ]
    }
   ],
   "source": [
    "i=100\n",
    "amstrong=[]\n",
    "while i<1000:\n",
    "    a=i%100\n",
    "    if (i//100)**3 + (a//10)**3 + (a%10)**3 == i:\n",
    "        amstrong.append(i)\n",
    "        i+=1\n",
    "    else:\n",
    "        i+=1\n",
    "print(\"세 자리의 암스트롱 수 : \", amstrong)"
   ]
  },
  {
   "cell_type": "markdown",
   "id": "a56adaf3",
   "metadata": {},
   "source": [
    "## 5.8"
   ]
  },
  {
   "cell_type": "code",
   "execution_count": 20,
   "id": "07b62a2a",
   "metadata": {},
   "outputs": [
    {
     "name": "stdout",
     "output_type": "stream",
     "text": [
      "정수를 입력하시오 : 3443\n",
      "3443 은(는) 거꾸로 정수입니다.\n",
      "정수를 입력하시오 : 324\n",
      "324 은(는) 거꾸로 정수가 아닙니다.\n",
      "정수를 입력하시오 : -99\n",
      "프로그램을 종료합니다.\n"
     ]
    }
   ],
   "source": [
    "while True:\n",
    "    num=input(\"정수를 입력하시오 : \")\n",
    "    if int(num)==-99:\n",
    "        print(\"프로그램을 종료합니다.\")\n",
    "        break\n",
    "    else:\n",
    "        if list(num)==list(reversed(num)):\n",
    "            print(num,\"은(는) 거꾸로 정수입니다.\")\n",
    "        else:\n",
    "            print(num,\"은(는) 거꾸로 정수가 아닙니다.\")"
   ]
  },
  {
   "cell_type": "markdown",
   "id": "c9e44c7f",
   "metadata": {},
   "source": [
    "## 5.9"
   ]
  },
  {
   "cell_type": "code",
   "execution_count": 1,
   "id": "d2be03d6",
   "metadata": {},
   "outputs": [
    {
     "name": "stdout",
     "output_type": "stream",
     "text": [
      "정수를 입력하시오 : 34\n",
      "정수를 입력하시오 : 920\n",
      "정수를 입력하시오 : 320\n",
      "정수를 입력하시오 : 30\n",
      "정수를 입력하시오 : -99\n",
      "4 개의 유효한 정수중 가장 큰 정수는 920 이고, 가장 작은 정수는 30 입니다.\n"
     ]
    }
   ],
   "source": [
    "list_=[]\n",
    "while True:\n",
    "    num=int(input(\"정수를 입력하시오 : \"))\n",
    "    if num == -99:\n",
    "        break\n",
    "    else:\n",
    "        list_.append(num)\n",
    "print(f\"{len(list_)} 개의 유효한 정수중 가장 큰 정수는 {max(list_)} 이고, 가장 작은 정수는 {min(list_)} 입니다.\")"
   ]
  },
  {
   "cell_type": "markdown",
   "id": "0c39874e",
   "metadata": {},
   "source": [
    "## 5.10"
   ]
  },
  {
   "cell_type": "code",
   "execution_count": 1,
   "id": "9332d740",
   "metadata": {},
   "outputs": [],
   "source": [
    "import turtle\n",
    "import random\n",
    "t=turtle.Turtle()\n",
    "t.shape(\"turtle\")\n",
    "for i in range(30):\n",
    "    r=random.randrange(2)\n",
    "    if r==0:\n",
    "        t.left(90)\n",
    "        t.forward(50)\n",
    "    else:\n",
    "        t.right(90)\n",
    "        t.forward(50)\n",
    "        \n",
    "turtle.down()"
   ]
  },
  {
   "cell_type": "code",
   "execution_count": 2,
   "id": "aa091c72",
   "metadata": {},
   "outputs": [],
   "source": [
    "import turtle\n",
    "import random\n",
    "t=turtle.Turtle()\n",
    "t.shape(\"turtle\")\n",
    "i=1\n",
    "while i <31:\n",
    "    r=random.randrange(2)\n",
    "    if r==0:\n",
    "        t.left(90)\n",
    "        t.forward(50)\n",
    "    else:\n",
    "        t.right(90)\n",
    "        t.forward(50)\n",
    "    i+=1\n",
    "        \n",
    "turtle.down()"
   ]
  }
 ],
 "metadata": {
  "kernelspec": {
   "display_name": "Python 3 (ipykernel)",
   "language": "python",
   "name": "python3"
  },
  "language_info": {
   "codemirror_mode": {
    "name": "ipython",
    "version": 3
   },
   "file_extension": ".py",
   "mimetype": "text/x-python",
   "name": "python",
   "nbconvert_exporter": "python",
   "pygments_lexer": "ipython3",
   "version": "3.11.2"
  }
 },
 "nbformat": 4,
 "nbformat_minor": 5
}
